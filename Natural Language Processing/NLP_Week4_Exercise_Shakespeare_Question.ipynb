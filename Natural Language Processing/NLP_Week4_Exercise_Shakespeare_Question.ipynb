{
  "nbformat": 4,
  "nbformat_minor": 0,
  "metadata": {
    "accelerator": "GPU",
    "colab": {
      "name": "NLP_Week4_Exercise_Shakespeare_Question.ipynb",
      "provenance": [],
      "toc_visible": true,
      "include_colab_link": true
    },
    "kernelspec": {
      "display_name": "Python 3",
      "name": "python3"
    }
  },
  "cells": [
    {
      "cell_type": "markdown",
      "metadata": {
        "id": "view-in-github",
        "colab_type": "text"
      },
      "source": [
        "<a href=\"https://colab.research.google.com/github/deekshant1/Tensorflow-Specialization-Coursera/blob/master/Natural%20Language%20Processing/NLP_Week4_Exercise_Shakespeare_Question.ipynb\" target=\"_parent\"><img src=\"https://colab.research.google.com/assets/colab-badge.svg\" alt=\"Open In Colab\"/></a>"
      ]
    },
    {
      "cell_type": "code",
      "metadata": {
        "id": "zX4Kg8DUTKWO",
        "colab_type": "code",
        "colab": {}
      },
      "source": [
        "#@title Licensed under the Apache License, Version 2.0 (the \"License\");\n",
        "# you may not use this file except in compliance with the License.\n",
        "# You may obtain a copy of the License at\n",
        "#\n",
        "# https://www.apache.org/licenses/LICENSE-2.0\n",
        "#\n",
        "# Unless required by applicable law or agreed to in writing, software\n",
        "# distributed under the License is distributed on an \"AS IS\" BASIS,\n",
        "# WITHOUT WARRANTIES OR CONDITIONS OF ANY KIND, either express or implied.\n",
        "# See the License for the specific language governing permissions and\n",
        "# limitations under the License."
      ],
      "execution_count": null,
      "outputs": []
    },
    {
      "cell_type": "code",
      "metadata": {
        "colab_type": "code",
        "id": "BOwsuGQQY9OL",
        "colab": {}
      },
      "source": [
        "from tensorflow.keras.preprocessing.sequence import pad_sequences\n",
        "from tensorflow.keras.layers import Embedding, LSTM, Dense, Dropout, Bidirectional\n",
        "from tensorflow.keras.preprocessing.text import Tokenizer\n",
        "from tensorflow.keras.models import Sequential\n",
        "from tensorflow.keras.optimizers import Adam\n",
        "### YOUR CODE HERE\n",
        "from tensorflow.keras import regularizers\n",
        "# Figure out how to import regularizers\n",
        "###\n",
        "import tensorflow.keras.utils as ku \n",
        "import numpy as np "
      ],
      "execution_count": null,
      "outputs": []
    },
    {
      "cell_type": "code",
      "metadata": {
        "colab_type": "code",
        "id": "PRnDnCW-Z7qv",
        "colab": {
          "base_uri": "https://localhost:8080/",
          "height": 214
        },
        "outputId": "44e6c0d6-a05a-4040-80a0-ea630649938c"
      },
      "source": [
        "tokenizer = Tokenizer()\n",
        "!wget --no-check-certificate \\\n",
        "    https://storage.googleapis.com/laurencemoroney-blog.appspot.com/sonnets.txt \\\n",
        "    -O /tmp/sonnets.txt\n",
        "data = open('/tmp/sonnets.txt').read()\n",
        "\n",
        "corpus = data.lower().split(\"\\n\")\n",
        "\n",
        "\n",
        "tokenizer.fit_on_texts(corpus)\n",
        "total_words = len(tokenizer.word_index) + 1\n",
        "\n",
        "# create input sequences using list of tokens\n",
        "input_sequences = []\n",
        "for line in corpus:\n",
        "\ttoken_list = tokenizer.texts_to_sequences([line])[0]\n",
        "\tfor i in range(1, len(token_list)):\n",
        "\t\tn_gram_sequence = token_list[:i+1]\n",
        "\t\tinput_sequences.append(n_gram_sequence)\n",
        "\n",
        "\n",
        "# pad sequences \n",
        "max_sequence_len = max([len(x) for x in input_sequences])\n",
        "input_sequences = np.array(pad_sequences(input_sequences, maxlen=max_sequence_len, padding='pre'))\n",
        "\n",
        "# create predictors and label\n",
        "predictors, label = input_sequences[:,:-1],input_sequences[:,-1]\n",
        "\n",
        "label = ku.to_categorical(label, num_classes=total_words)"
      ],
      "execution_count": null,
      "outputs": [
        {
          "output_type": "stream",
          "text": [
            "--2020-08-28 13:08:23--  https://storage.googleapis.com/laurencemoroney-blog.appspot.com/sonnets.txt\n",
            "Resolving storage.googleapis.com (storage.googleapis.com)... 108.177.125.128, 74.125.203.128, 64.233.188.128, ...\n",
            "Connecting to storage.googleapis.com (storage.googleapis.com)|108.177.125.128|:443... connected.\n",
            "HTTP request sent, awaiting response... 200 OK\n",
            "Length: 93578 (91K) [text/plain]\n",
            "Saving to: ‘/tmp/sonnets.txt’\n",
            "\n",
            "/tmp/sonnets.txt    100%[===================>]  91.38K  --.-KB/s    in 0.001s  \n",
            "\n",
            "2020-08-28 13:08:24 (84.1 MB/s) - ‘/tmp/sonnets.txt’ saved [93578/93578]\n",
            "\n"
          ],
          "name": "stdout"
        }
      ]
    },
    {
      "cell_type": "code",
      "metadata": {
        "colab_type": "code",
        "id": "w9vH8Y59ajYL",
        "colab": {
          "base_uri": "https://localhost:8080/",
          "height": 392
        },
        "outputId": "b2bdced5-1e3b-46e6-bc9e-ddf3b0ad9060"
      },
      "source": [
        "model = Sequential()\n",
        "model.add(Embedding(total_words, 100, input_length=max_sequence_len-1))# Your Embedding Layer\n",
        "model.add(Bidirectional(LSTM(100, return_sequences=True)))# An LSTM Layer\n",
        "model.add(Dropout(0.2))# A dropout layer\n",
        "model.add(Bidirectional(LSTM(64)))# Another LSTM Layer\n",
        "model.add(Dense(total_words/2, activation='relu', kernel_regularizer=regularizers.l2(0.01)))# A Dense Layer including regularizers\n",
        "model.add(Dense(total_words, activation='softmax'))# A Dense Layer\n",
        "# Pick an optimizer\n",
        "model.compile(loss='categorical_crossentropy', optimizer='adam', metrics = ['accuracy'])# Pick a loss function and an optimizer\n",
        "print(model.summary())\n"
      ],
      "execution_count": null,
      "outputs": [
        {
          "output_type": "stream",
          "text": [
            "Model: \"sequential\"\n",
            "_________________________________________________________________\n",
            "Layer (type)                 Output Shape              Param #   \n",
            "=================================================================\n",
            "embedding (Embedding)        (None, 10, 100)           321100    \n",
            "_________________________________________________________________\n",
            "bidirectional (Bidirectional (None, 10, 200)           160800    \n",
            "_________________________________________________________________\n",
            "dropout (Dropout)            (None, 10, 200)           0         \n",
            "_________________________________________________________________\n",
            "bidirectional_1 (Bidirection (None, 128)               135680    \n",
            "_________________________________________________________________\n",
            "dense (Dense)                (None, 1605)              207045    \n",
            "_________________________________________________________________\n",
            "dense_1 (Dense)              (None, 3211)              5156866   \n",
            "=================================================================\n",
            "Total params: 5,981,491\n",
            "Trainable params: 5,981,491\n",
            "Non-trainable params: 0\n",
            "_________________________________________________________________\n",
            "None\n"
          ],
          "name": "stdout"
        }
      ]
    },
    {
      "cell_type": "code",
      "metadata": {
        "colab_type": "code",
        "id": "AIg2f1HBxqof",
        "colab": {
          "base_uri": "https://localhost:8080/",
          "height": 1000
        },
        "outputId": "9f65d59d-71d0-4742-a993-6e56e1d029c8"
      },
      "source": [
        " history = model.fit(predictors, label, epochs=100, verbose=1)"
      ],
      "execution_count": null,
      "outputs": [
        {
          "output_type": "stream",
          "text": [
            "Epoch 1/100\n",
            "484/484 [==============================] - 13s 27ms/step - loss: 6.9278 - accuracy: 0.0200\n",
            "Epoch 2/100\n",
            "484/484 [==============================] - 13s 27ms/step - loss: 6.5048 - accuracy: 0.0238\n",
            "Epoch 3/100\n",
            "484/484 [==============================] - 13s 27ms/step - loss: 6.4093 - accuracy: 0.0244\n",
            "Epoch 4/100\n",
            "484/484 [==============================] - 13s 28ms/step - loss: 6.2896 - accuracy: 0.0283\n",
            "Epoch 5/100\n",
            "484/484 [==============================] - 13s 27ms/step - loss: 6.1877 - accuracy: 0.0353\n",
            "Epoch 6/100\n",
            "484/484 [==============================] - 13s 27ms/step - loss: 6.0994 - accuracy: 0.0376\n",
            "Epoch 7/100\n",
            "484/484 [==============================] - 13s 28ms/step - loss: 6.0085 - accuracy: 0.0400\n",
            "Epoch 8/100\n",
            "484/484 [==============================] - 13s 27ms/step - loss: 5.9160 - accuracy: 0.0421\n",
            "Epoch 9/100\n",
            "484/484 [==============================] - 13s 27ms/step - loss: 5.8269 - accuracy: 0.0473\n",
            "Epoch 10/100\n",
            "484/484 [==============================] - 14s 28ms/step - loss: 5.7372 - accuracy: 0.0507\n",
            "Epoch 11/100\n",
            "484/484 [==============================] - 13s 27ms/step - loss: 5.6407 - accuracy: 0.0563\n",
            "Epoch 12/100\n",
            "484/484 [==============================] - 13s 27ms/step - loss: 5.5406 - accuracy: 0.0642\n",
            "Epoch 13/100\n",
            "484/484 [==============================] - 13s 27ms/step - loss: 5.4380 - accuracy: 0.0699\n",
            "Epoch 14/100\n",
            "484/484 [==============================] - 13s 27ms/step - loss: 5.3431 - accuracy: 0.0759\n",
            "Epoch 15/100\n",
            "484/484 [==============================] - 13s 27ms/step - loss: 5.2380 - accuracy: 0.0863\n",
            "Epoch 16/100\n",
            "484/484 [==============================] - 13s 27ms/step - loss: 5.1418 - accuracy: 0.0929\n",
            "Epoch 17/100\n",
            "484/484 [==============================] - 13s 27ms/step - loss: 5.0479 - accuracy: 0.1015\n",
            "Epoch 18/100\n",
            "484/484 [==============================] - 13s 27ms/step - loss: 4.9468 - accuracy: 0.1079\n",
            "Epoch 19/100\n",
            "484/484 [==============================] - 13s 27ms/step - loss: 4.8450 - accuracy: 0.1152\n",
            "Epoch 20/100\n",
            "484/484 [==============================] - 13s 27ms/step - loss: 4.7420 - accuracy: 0.1244\n",
            "Epoch 21/100\n",
            "484/484 [==============================] - 13s 27ms/step - loss: 4.6453 - accuracy: 0.1328\n",
            "Epoch 22/100\n",
            "484/484 [==============================] - 13s 27ms/step - loss: 4.5497 - accuracy: 0.1392\n",
            "Epoch 23/100\n",
            "484/484 [==============================] - 13s 27ms/step - loss: 4.4495 - accuracy: 0.1512\n",
            "Epoch 24/100\n",
            "484/484 [==============================] - 13s 27ms/step - loss: 4.3481 - accuracy: 0.1619\n",
            "Epoch 25/100\n",
            "484/484 [==============================] - 13s 27ms/step - loss: 4.2490 - accuracy: 0.1716\n",
            "Epoch 26/100\n",
            "484/484 [==============================] - 13s 27ms/step - loss: 4.1532 - accuracy: 0.1815\n",
            "Epoch 27/100\n",
            "484/484 [==============================] - 13s 28ms/step - loss: 4.0569 - accuracy: 0.1961\n",
            "Epoch 28/100\n",
            "484/484 [==============================] - 13s 27ms/step - loss: 3.9661 - accuracy: 0.2075\n",
            "Epoch 29/100\n",
            "484/484 [==============================] - 13s 27ms/step - loss: 3.8648 - accuracy: 0.2225\n",
            "Epoch 30/100\n",
            "484/484 [==============================] - 13s 27ms/step - loss: 3.7683 - accuracy: 0.2391\n",
            "Epoch 31/100\n",
            "484/484 [==============================] - 13s 27ms/step - loss: 3.6874 - accuracy: 0.2555\n",
            "Epoch 32/100\n",
            "484/484 [==============================] - 13s 27ms/step - loss: 3.5981 - accuracy: 0.2697\n",
            "Epoch 33/100\n",
            "484/484 [==============================] - 14s 28ms/step - loss: 3.5086 - accuracy: 0.2958\n",
            "Epoch 34/100\n",
            "484/484 [==============================] - 13s 28ms/step - loss: 3.4375 - accuracy: 0.3056\n",
            "Epoch 35/100\n",
            "484/484 [==============================] - 13s 27ms/step - loss: 3.3626 - accuracy: 0.3198\n",
            "Epoch 36/100\n",
            "484/484 [==============================] - 13s 27ms/step - loss: 3.2849 - accuracy: 0.3390\n",
            "Epoch 37/100\n",
            "484/484 [==============================] - 13s 27ms/step - loss: 3.2087 - accuracy: 0.3593\n",
            "Epoch 38/100\n",
            "484/484 [==============================] - 13s 27ms/step - loss: 3.1371 - accuracy: 0.3705\n",
            "Epoch 39/100\n",
            "484/484 [==============================] - 13s 27ms/step - loss: 3.0707 - accuracy: 0.3865\n",
            "Epoch 40/100\n",
            "484/484 [==============================] - 13s 27ms/step - loss: 3.0029 - accuracy: 0.4042\n",
            "Epoch 41/100\n",
            "484/484 [==============================] - 13s 27ms/step - loss: 2.9349 - accuracy: 0.4172\n",
            "Epoch 42/100\n",
            "484/484 [==============================] - 13s 27ms/step - loss: 2.8796 - accuracy: 0.4256\n",
            "Epoch 43/100\n",
            "484/484 [==============================] - 13s 27ms/step - loss: 2.8245 - accuracy: 0.4408\n",
            "Epoch 44/100\n",
            "484/484 [==============================] - 13s 27ms/step - loss: 2.7492 - accuracy: 0.4589\n",
            "Epoch 45/100\n",
            "484/484 [==============================] - 13s 27ms/step - loss: 2.6940 - accuracy: 0.4696\n",
            "Epoch 46/100\n",
            "484/484 [==============================] - 13s 27ms/step - loss: 2.6474 - accuracy: 0.4832\n",
            "Epoch 47/100\n",
            "484/484 [==============================] - 13s 27ms/step - loss: 2.5942 - accuracy: 0.4908\n",
            "Epoch 48/100\n",
            "484/484 [==============================] - 13s 27ms/step - loss: 2.5311 - accuracy: 0.5132\n",
            "Epoch 49/100\n",
            "484/484 [==============================] - 13s 27ms/step - loss: 2.4937 - accuracy: 0.5178\n",
            "Epoch 50/100\n",
            "484/484 [==============================] - 13s 28ms/step - loss: 2.4382 - accuracy: 0.5301\n",
            "Epoch 51/100\n",
            "484/484 [==============================] - 13s 27ms/step - loss: 2.3927 - accuracy: 0.5415\n",
            "Epoch 52/100\n",
            "484/484 [==============================] - 13s 28ms/step - loss: 2.3452 - accuracy: 0.5519\n",
            "Epoch 53/100\n",
            "484/484 [==============================] - 13s 28ms/step - loss: 2.3072 - accuracy: 0.5588\n",
            "Epoch 54/100\n",
            "484/484 [==============================] - 14s 28ms/step - loss: 2.2624 - accuracy: 0.5711\n",
            "Epoch 55/100\n",
            "484/484 [==============================] - 14s 28ms/step - loss: 2.2217 - accuracy: 0.5814\n",
            "Epoch 56/100\n",
            "484/484 [==============================] - 14s 28ms/step - loss: 2.1844 - accuracy: 0.5889\n",
            "Epoch 57/100\n",
            "484/484 [==============================] - 14s 29ms/step - loss: 2.1389 - accuracy: 0.5990\n",
            "Epoch 58/100\n",
            "484/484 [==============================] - 13s 27ms/step - loss: 2.1064 - accuracy: 0.6074\n",
            "Epoch 59/100\n",
            "484/484 [==============================] - 13s 28ms/step - loss: 2.0684 - accuracy: 0.6172\n",
            "Epoch 60/100\n",
            "484/484 [==============================] - 13s 27ms/step - loss: 2.0300 - accuracy: 0.6262\n",
            "Epoch 61/100\n",
            "484/484 [==============================] - 13s 27ms/step - loss: 2.0003 - accuracy: 0.6314\n",
            "Epoch 62/100\n",
            "484/484 [==============================] - 13s 27ms/step - loss: 1.9703 - accuracy: 0.6345\n",
            "Epoch 63/100\n",
            "484/484 [==============================] - 13s 28ms/step - loss: 1.9338 - accuracy: 0.6476\n",
            "Epoch 64/100\n",
            "484/484 [==============================] - 13s 27ms/step - loss: 1.8961 - accuracy: 0.6520\n",
            "Epoch 65/100\n",
            "484/484 [==============================] - 13s 27ms/step - loss: 1.8733 - accuracy: 0.6594\n",
            "Epoch 66/100\n",
            "484/484 [==============================] - 13s 27ms/step - loss: 1.8406 - accuracy: 0.6672\n",
            "Epoch 67/100\n",
            "484/484 [==============================] - 13s 27ms/step - loss: 1.8039 - accuracy: 0.6734\n",
            "Epoch 68/100\n",
            "484/484 [==============================] - 13s 28ms/step - loss: 1.7876 - accuracy: 0.6775\n",
            "Epoch 69/100\n",
            "484/484 [==============================] - 13s 27ms/step - loss: 1.7596 - accuracy: 0.6849\n",
            "Epoch 70/100\n",
            "484/484 [==============================] - 13s 27ms/step - loss: 1.7479 - accuracy: 0.6863\n",
            "Epoch 71/100\n",
            "484/484 [==============================] - 14s 28ms/step - loss: 1.7163 - accuracy: 0.6918\n",
            "Epoch 72/100\n",
            "484/484 [==============================] - 14s 29ms/step - loss: 1.6671 - accuracy: 0.7048\n",
            "Epoch 73/100\n",
            "484/484 [==============================] - 14s 29ms/step - loss: 1.6541 - accuracy: 0.7064\n",
            "Epoch 74/100\n",
            "484/484 [==============================] - 14s 28ms/step - loss: 1.6474 - accuracy: 0.7073\n",
            "Epoch 75/100\n",
            "484/484 [==============================] - 14s 28ms/step - loss: 1.6110 - accuracy: 0.7124\n",
            "Epoch 76/100\n",
            "484/484 [==============================] - 14s 28ms/step - loss: 1.6091 - accuracy: 0.7128\n",
            "Epoch 77/100\n",
            "484/484 [==============================] - 13s 27ms/step - loss: 1.5915 - accuracy: 0.7142\n",
            "Epoch 78/100\n",
            "484/484 [==============================] - 13s 27ms/step - loss: 1.5722 - accuracy: 0.7216\n",
            "Epoch 79/100\n",
            "484/484 [==============================] - 13s 27ms/step - loss: 1.5223 - accuracy: 0.7308\n",
            "Epoch 80/100\n",
            "484/484 [==============================] - 14s 28ms/step - loss: 1.5124 - accuracy: 0.7322\n",
            "Epoch 81/100\n",
            "484/484 [==============================] - 13s 27ms/step - loss: 1.4980 - accuracy: 0.7349\n",
            "Epoch 82/100\n",
            "484/484 [==============================] - 13s 27ms/step - loss: 1.4808 - accuracy: 0.7377\n",
            "Epoch 83/100\n",
            "484/484 [==============================] - 13s 27ms/step - loss: 1.4691 - accuracy: 0.7418\n",
            "Epoch 84/100\n",
            "484/484 [==============================] - 13s 27ms/step - loss: 1.4488 - accuracy: 0.7465\n",
            "Epoch 85/100\n",
            "484/484 [==============================] - 13s 27ms/step - loss: 1.4326 - accuracy: 0.7477\n",
            "Epoch 86/100\n",
            "484/484 [==============================] - 14s 28ms/step - loss: 1.4219 - accuracy: 0.7500\n",
            "Epoch 87/100\n",
            "484/484 [==============================] - 14s 28ms/step - loss: 1.3912 - accuracy: 0.7582\n",
            "Epoch 88/100\n",
            "484/484 [==============================] - 14s 28ms/step - loss: 1.3830 - accuracy: 0.7573\n",
            "Epoch 89/100\n",
            "484/484 [==============================] - 14s 28ms/step - loss: 1.3649 - accuracy: 0.7632\n",
            "Epoch 90/100\n",
            "484/484 [==============================] - 14s 28ms/step - loss: 1.3718 - accuracy: 0.7597\n",
            "Epoch 91/100\n",
            "484/484 [==============================] - 13s 28ms/step - loss: 1.3539 - accuracy: 0.7617\n",
            "Epoch 92/100\n",
            "484/484 [==============================] - 13s 27ms/step - loss: 1.3321 - accuracy: 0.7667\n",
            "Epoch 93/100\n",
            "484/484 [==============================] - 13s 27ms/step - loss: 1.3428 - accuracy: 0.7640\n",
            "Epoch 94/100\n",
            "484/484 [==============================] - 13s 27ms/step - loss: 1.2975 - accuracy: 0.7739\n",
            "Epoch 95/100\n",
            "484/484 [==============================] - 13s 28ms/step - loss: 1.2804 - accuracy: 0.7729\n",
            "Epoch 96/100\n",
            "484/484 [==============================] - 13s 28ms/step - loss: 1.2801 - accuracy: 0.7744\n",
            "Epoch 97/100\n",
            "484/484 [==============================] - 13s 27ms/step - loss: 1.2756 - accuracy: 0.7754\n",
            "Epoch 98/100\n",
            "484/484 [==============================] - 13s 27ms/step - loss: 1.2759 - accuracy: 0.7765\n",
            "Epoch 99/100\n",
            "484/484 [==============================] - 13s 27ms/step - loss: 1.2554 - accuracy: 0.7791\n",
            "Epoch 100/100\n",
            "484/484 [==============================] - 13s 27ms/step - loss: 1.2423 - accuracy: 0.7809\n"
          ],
          "name": "stdout"
        }
      ]
    },
    {
      "cell_type": "code",
      "metadata": {
        "colab_type": "code",
        "id": "1fXTEO3GJ282",
        "colab": {
          "base_uri": "https://localhost:8080/",
          "height": 545
        },
        "outputId": "dffa2acf-0cbe-498b-b159-e2d2ba32663c"
      },
      "source": [
        "import matplotlib.pyplot as plt\n",
        "acc = history.history['accuracy']\n",
        "loss = history.history['loss']\n",
        "\n",
        "epochs = range(len(acc))\n",
        "\n",
        "plt.plot(epochs, acc, 'b', label='Training accuracy')\n",
        "plt.title('Training accuracy')\n",
        "\n",
        "plt.figure()\n",
        "\n",
        "plt.plot(epochs, loss, 'b', label='Training Loss')\n",
        "plt.title('Training loss')\n",
        "plt.legend()\n",
        "\n",
        "plt.show()"
      ],
      "execution_count": null,
      "outputs": [
        {
          "output_type": "display_data",
          "data": {
            "image/png": "[encoded data removed]",
            "text/plain": [
              "<Figure size 432x288 with 1 Axes>"
            ]
          },
          "metadata": {
            "tags": [],
            "needs_background": "light"
          }
        },
        {
          "output_type": "display_data",
          "data": {
            "image/png": "[encoded data removed]",
            "text/plain": [
              "<Figure size 432x288 with 1 Axes>"
            ]
          },
          "metadata": {
            "tags": [],
            "needs_background": "light"
          }
        }
      ]
    },
    {
      "cell_type": "code",
      "metadata": {
        "colab_type": "code",
        "id": "6Vc6PHgxa6Hm",
        "colab": {
          "base_uri": "https://localhost:8080/",
          "height": 108
        },
        "outputId": "c213372d-5077-4fd1-e3f7-b00cfe131070"
      },
      "source": [
        "seed_text = \"Help me Obi Wan Kenobi, you're my only hope\"\n",
        "next_words = 100\n",
        "  \n",
        "for _ in range(next_words):\n",
        "\ttoken_list = tokenizer.texts_to_sequences([seed_text])[0]\n",
        "\ttoken_list = pad_sequences([token_list], maxlen=max_sequence_len-1, padding='pre')\n",
        "\tpredicted = model.predict_classes(token_list, verbose=0)\n",
        "\toutput_word = \"\"\n",
        "\tfor word, index in tokenizer.word_index.items():\n",
        "\t\tif index == predicted:\n",
        "\t\t\toutput_word = word\n",
        "\t\t\tbreak\n",
        "\tseed_text += \" \" + output_word\n",
        "print(seed_text)"
      ],
      "execution_count": null,
      "outputs": [
        {
          "output_type": "stream",
          "text": [
            "WARNING:tensorflow:From <ipython-input-7-622d307fa19a>:7: Sequential.predict_classes (from tensorflow.python.keras.engine.sequential) is deprecated and will be removed after 2021-01-01.\n",
            "Instructions for updating:\n",
            "Please use instead:* `np.argmax(model.predict(x), axis=-1)`,   if your model does multi-class classification   (e.g. if it uses a `softmax` last-layer activation).* `(model.predict(x) > 0.5).astype(\"int32\")`,   if your model does binary classification   (e.g. if it uses a `sigmoid` last-layer activation).\n",
            "Help me Obi Wan Kenobi, you're my only hope that such ever dwell still ' hate hate lack thence dumb none blind blind gone will i in thine brow view set days still grow back still live quite loved from ill before it shine more say take thine thy face exceeds show thy heart in youth from thee live for told her dumb false kind with fears not will do find it brought my side time's several plot dwells dwells bow due days prove none days prove thee lack time doth gone in thine and that in one brow hate ' die thee ' hate due me in love\n"
          ],
          "name": "stdout"
        }
      ]
    }
  ]
}