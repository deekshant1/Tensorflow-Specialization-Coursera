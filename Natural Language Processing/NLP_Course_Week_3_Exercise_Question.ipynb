{
  "nbformat": 4,
  "nbformat_minor": 0,
  "metadata": {
    "accelerator": "GPU",
    "colab": {
      "name": "NLP Course - Week 3 Exercise Question.ipynb",
      "provenance": [],
      "toc_visible": true,
      "include_colab_link": true
    },
    "kernelspec": {
      "display_name": "Python 3",
      "name": "python3"
    }
  },
  "cells": [
    {
      "cell_type": "markdown",
      "metadata": {
        "id": "view-in-github",
        "colab_type": "text"
      },
      "source": [
        "<a href=\"https://colab.research.google.com/github/deekshant1/Tensorflow-Specialization-Coursera/blob/master/Natural%20Language%20Processing/NLP_Course_Week_3_Exercise_Question.ipynb\" target=\"_parent\"><img src=\"https://colab.research.google.com/assets/colab-badge.svg\" alt=\"Open In Colab\"/></a>"
      ]
    },
    {
      "cell_type": "code",
      "metadata": {
        "id": "zX4Kg8DUTKWO",
        "colab_type": "code",
        "colab": {}
      },
      "source": [
        "#@title Licensed under the Apache License, Version 2.0 (the \"License\");\n",
        "# you may not use this file except in compliance with the License.\n",
        "# You may obtain a copy of the License at\n",
        "#\n",
        "# https://www.apache.org/licenses/LICENSE-2.0\n",
        "#\n",
        "# Unless required by applicable law or agreed to in writing, software\n",
        "# distributed under the License is distributed on an \"AS IS\" BASIS,\n",
        "# WITHOUT WARRANTIES OR CONDITIONS OF ANY KIND, either express or implied.\n",
        "# See the License for the specific language governing permissions and\n",
        "# limitations under the License."
      ],
      "execution_count": null,
      "outputs": []
    },
    {
      "cell_type": "code",
      "metadata": {
        "colab_type": "code",
        "id": "hmA6EzkQJ5jt",
        "colab": {}
      },
      "source": [
        "import json\n",
        "import tensorflow as tf\n",
        "import csv\n",
        "import random\n",
        "import numpy as np\n",
        "\n",
        "from tensorflow.keras.preprocessing.text import Tokenizer\n",
        "from tensorflow.keras.preprocessing.sequence import pad_sequences\n",
        "from tensorflow.keras.utils import to_categorical\n",
        "from tensorflow.keras import regularizers\n",
        "\n",
        "\n",
        "embedding_dim = 100\n",
        "max_length = 16\n",
        "trunc_type='post'\n",
        "padding_type='post'\n",
        "oov_tok = \"<OOV>\"\n",
        "training_size=160000#Your dataset size here. Experiment using smaller values (i.e. 16000), but don't forget to train on at least 160000 to see the best effects\n",
        "test_portion=.1\n",
        "\n",
        "corpus = []\n"
      ],
      "execution_count": null,
      "outputs": []
    },
    {
      "cell_type": "code",
      "metadata": {
        "colab_type": "code",
        "id": "bM0l_dORKqE0",
        "colab": {
          "base_uri": "https://localhost:8080/",
          "height": 214
        },
        "outputId": "96186cee-5bb0-4c2e-9cc8-b99381be4659"
      },
      "source": [
        "# Note that I cleaned the Stanford dataset to remove LATIN1 encoding to make it easier for Python CSV reader\n",
        "# You can do that yourself with:\n",
        "# iconv -f LATIN1 -t UTF8 training.1600000.processed.noemoticon.csv -o training_cleaned.csv\n",
        "# I then hosted it on my site to make it easier to use in this notebook\n",
        "\n",
        "!wget --no-check-certificate \\\n",
        "    https://storage.googleapis.com/laurencemoroney-blog.appspot.com/training_cleaned.csv \\\n",
        "    -O /tmp/training_cleaned.csv\n",
        "\n",
        "num_sentences = 0\n",
        "\n",
        "with open(\"/tmp/training_cleaned.csv\") as csvfile:\n",
        "    reader = csv.reader(csvfile, delimiter=',')\n",
        "    for row in reader:\n",
        "      # Your Code here. Create list items where the first item is the text, found in row[5], and the second is the label. Note that the label is a '0' or a '4' in the text. When it's the former, make\n",
        "      # your label to be 0, otherwise 1. Keep a count of the number of sentences in num_sentences\n",
        "        list_item=[]\n",
        "        list_item.append(row[5])\n",
        "        label = row[0]\n",
        "        if label=='0':\n",
        "          list_item.append(0)\n",
        "        else:\n",
        "          list_item.append(1)\n",
        "        # YOUR CODE HERE\n",
        "        num_sentences = num_sentences + 1\n",
        "        corpus.append(list_item)\n"
      ],
      "execution_count": null,
      "outputs": [
        {
          "output_type": "stream",
          "text": [
            "--2020-08-28 06:17:07--  https://storage.googleapis.com/laurencemoroney-blog.appspot.com/training_cleaned.csv\n",
            "Resolving storage.googleapis.com (storage.googleapis.com)... 64.233.188.128, 64.233.189.128, 108.177.97.128, ...\n",
            "Connecting to storage.googleapis.com (storage.googleapis.com)|64.233.188.128|:443... connected.\n",
            "HTTP request sent, awaiting response... 200 OK\n",
            "Length: 238942690 (228M) [application/octet-stream]\n",
            "Saving to: ‘/tmp/training_cleaned.csv’\n",
            "\n",
            "/tmp/training_clean 100%[===================>] 227.87M  46.9MB/s    in 4.9s    \n",
            "\n",
            "2020-08-28 06:17:12 (46.9 MB/s) - ‘/tmp/training_cleaned.csv’ saved [238942690/238942690]\n",
            "\n"
          ],
          "name": "stdout"
        }
      ]
    },
    {
      "cell_type": "code",
      "metadata": {
        "colab_type": "code",
        "id": "3kxblBUjEUX-",
        "colab": {
          "base_uri": "https://localhost:8080/",
          "height": 91
        },
        "outputId": "016435b3-1001-4c67-9d85-16e67ce8c792"
      },
      "source": [
        "print(num_sentences)\n",
        "print(len(corpus))\n",
        "print(corpus[1])\n",
        "\n",
        "# Expected Output:\n",
        "# 1600000\n",
        "# 1600000\n",
        "# [\"is upset that he can't update his Facebook by texting it... and might cry as a result  School today also. Blah!\", 0]"
      ],
      "execution_count": null,
      "outputs": [
        {
          "output_type": "stream",
          "text": [
            "1600000\n",
            "1600000\n",
            "[\"is upset that he can't update his Facebook by texting it... and might cry as a result  School today also. Blah!\", 0]\n"
          ],
          "name": "stdout"
        }
      ]
    },
    {
      "cell_type": "code",
      "metadata": {
        "colab_type": "code",
        "id": "ohOGz24lsNAD",
        "colab": {}
      },
      "source": [
        "sentences=[]\n",
        "labels=[]\n",
        "random.shuffle(corpus)\n",
        "for x in range(training_size):\n",
        "    sentences.append(corpus[x][0])# YOUR CODE HERE\n",
        "    labels.append(corpus[x][1])# YOUR CODE HERE\n",
        "\n",
        "\n",
        "tokenizer = Tokenizer()\n",
        "tokenizer.fit_on_texts(sentences)# YOUR CODE HERE\n",
        "\n",
        "word_index = tokenizer.word_index\n",
        "vocab_size=len(word_index)# YOUR CODE HERE\n",
        "\n",
        "sequences = tokenizer.texts_to_sequences(sentences)# YOUR CODE HERE\n",
        "padded = pad_sequences(sequences, padding=padding_type, maxlen=max_length, truncating=trunc_type)# YOUR CODE HERE\n",
        "\n",
        "split = int(test_portion * training_size)\n",
        "\n",
        "test_sequences = padded[0:split]# YOUR CODE HERE\n",
        "training_sequences = padded[split:training_size]# YOUR CODE HERE\n",
        "test_labels = labels[0:split]# YOUR CODE HERE\n",
        "training_labels = labels[split:training_size]# YOUR CODE HERE"
      ],
      "execution_count": null,
      "outputs": []
    },
    {
      "cell_type": "code",
      "metadata": {
        "colab_type": "code",
        "id": "gIrtRem1En3N",
        "colab": {
          "base_uri": "https://localhost:8080/",
          "height": 53
        },
        "outputId": "34708aa0-1e33-4f4b-f1c8-bcf7f942ff48"
      },
      "source": [
        "print(vocab_size)\n",
        "print(word_index['i'])\n",
        "# Expected Output\n",
        "# 138858\n",
        "# 1"
      ],
      "execution_count": null,
      "outputs": [
        {
          "output_type": "stream",
          "text": [
            "138887\n",
            "1\n"
          ],
          "name": "stdout"
        }
      ]
    },
    {
      "cell_type": "code",
      "metadata": {
        "colab_type": "code",
        "id": "C1zdgJkusRh0",
        "colab": {
          "base_uri": "https://localhost:8080/",
          "height": 234
        },
        "outputId": "e1fa8223-1eed-4c94-a596-c06d09dc1c71"
      },
      "source": [
        "# Note this is the 100 dimension version of GloVe from Stanford\n",
        "# I unzipped and hosted it on my site to make this notebook easier\n",
        "!wget --no-check-certificate \\\n",
        "    https://storage.googleapis.com/laurencemoroney-blog.appspot.com/glove.6B.100d.txt \\\n",
        "    -O /tmp/glove.6B.100d.txt\n",
        "embeddings_index = {};\n",
        "with open('/tmp/glove.6B.100d.txt') as f:\n",
        "    for line in f:\n",
        "        values = line.split();\n",
        "        word = values[0];\n",
        "        coefs = np.asarray(values[1:], dtype='float32');\n",
        "        embeddings_index[word] = coefs;\n",
        "\n",
        "embeddings_matrix = np.zeros((vocab_size+1, embedding_dim));\n",
        "for word, i in word_index.items():\n",
        "    embedding_vector = embeddings_index.get(word);\n",
        "    if embedding_vector is not None:\n",
        "        embeddings_matrix[i] = embedding_vector;"
      ],
      "execution_count": null,
      "outputs": [
        {
          "output_type": "stream",
          "text": [
            "--2020-08-28 06:19:26--  https://storage.googleapis.com/laurencemoroney-blog.appspot.com/glove.6B.100d.txt\n",
            "Resolving storage.googleapis.com (storage.googleapis.com)... 108.177.97.128, 74.125.203.128, 2404:6800:4008:c03::80, ...\n",
            "Connecting to storage.googleapis.com (storage.googleapis.com)|108.177.97.128|:443... connected.\n",
            "HTTP request sent, awaiting response... 200 OK\n",
            "Length: 347116733 (331M) [text/plain]\n",
            "Saving to: ‘/tmp/glove.6B.100d.txt’\n",
            "\n",
            "/tmp/glove.6B.100d. 100%[===================>] 331.04M  35.4MB/s    in 9.4s    \n",
            "\n",
            "2020-08-28 06:19:36 (35.4 MB/s) - ‘/tmp/glove.6B.100d.txt’ saved [347116733/347116733]\n",
            "\n"
          ],
          "name": "stdout"
        }
      ]
    },
    {
      "cell_type": "code",
      "metadata": {
        "colab_type": "code",
        "id": "71NLk_lpFLNt",
        "colab": {
          "base_uri": "https://localhost:8080/",
          "height": 35
        },
        "outputId": "4c629a59-d991-4bb7-9752-9145eced830a"
      },
      "source": [
        "print(len(embeddings_matrix))\n",
        "# Expected Output\n",
        "# 138859"
      ],
      "execution_count": null,
      "outputs": [
        {
          "output_type": "stream",
          "text": [
            "138888\n"
          ],
          "name": "stdout"
        }
      ]
    },
    {
      "cell_type": "code",
      "metadata": {
        "colab_type": "code",
        "id": "iKKvbuEBOGFz",
        "colab": {
          "base_uri": "https://localhost:8080/",
          "height": 1000
        },
        "outputId": "d0c8e707-74a7-4507-9391-ea23510a1dd7"
      },
      "source": [
        "model = tf.keras.Sequential([\n",
        "    tf.keras.layers.Embedding(vocab_size+1, embedding_dim, input_length=max_length, weights=[embeddings_matrix], trainable=False),\n",
        "    # YOUR CODE HERE - experiment with combining different types, such as convolutions and LSTMs\n",
        "    tf.keras.layers.Conv1D(64, 5, activation='relu'),\n",
        "    tf.keras.layers.MaxPooling1D(pool_size=4),\n",
        "    tf.keras.layers.LSTM(64),\n",
        "    tf.keras.layers.Dense(1, activation='sigmoid')\n",
        "])\n",
        "model.compile(loss='binary_crossentropy', optimizer='adam', metrics=['accuracy'])# YOUR CODE HERE\n",
        "model.summary()\n",
        "\n",
        "num_epochs = 50\n",
        "history = model.fit(np.array(training_sequences), np.array(training_labels), epochs=num_epochs,\n",
        "                    validation_data=(np.array(test_sequences), np.array(test_labels)), verbose=2)\n",
        "\n",
        "print(\"Training Complete\")\n"
      ],
      "execution_count": null,
      "outputs": [
        {
          "output_type": "stream",
          "text": [
            "Model: \"sequential_3\"\n",
            "_________________________________________________________________\n",
            "Layer (type)                 Output Shape              Param #   \n",
            "=================================================================\n",
            "embedding_3 (Embedding)      (None, 16, 100)           13888800  \n",
            "_________________________________________________________________\n",
            "conv1d_3 (Conv1D)            (None, 12, 64)            32064     \n",
            "_________________________________________________________________\n",
            "max_pooling1d_3 (MaxPooling1 (None, 3, 64)             0         \n",
            "_________________________________________________________________\n",
            "lstm_3 (LSTM)                (None, 64)                33024     \n",
            "_________________________________________________________________\n",
            "dense_3 (Dense)              (None, 1)                 65        \n",
            "=================================================================\n",
            "Total params: 13,953,953\n",
            "Trainable params: 65,153\n",
            "Non-trainable params: 13,888,800\n",
            "_________________________________________________________________\n",
            "Epoch 1/50\n",
            "4500/4500 - 20s - loss: 0.5489 - accuracy: 0.7155 - val_loss: 0.5261 - val_accuracy: 0.7302\n",
            "Epoch 2/50\n",
            "4500/4500 - 20s - loss: 0.5011 - accuracy: 0.7515 - val_loss: 0.5074 - val_accuracy: 0.7479\n",
            "Epoch 3/50\n",
            "4500/4500 - 20s - loss: 0.4762 - accuracy: 0.7676 - val_loss: 0.5078 - val_accuracy: 0.7471\n",
            "Epoch 4/50\n",
            "4500/4500 - 20s - loss: 0.4577 - accuracy: 0.7807 - val_loss: 0.5089 - val_accuracy: 0.7474\n",
            "Epoch 5/50\n",
            "4500/4500 - 20s - loss: 0.4394 - accuracy: 0.7922 - val_loss: 0.5363 - val_accuracy: 0.7394\n",
            "Epoch 6/50\n",
            "4500/4500 - 20s - loss: 0.4235 - accuracy: 0.8007 - val_loss: 0.5286 - val_accuracy: 0.7436\n",
            "Epoch 7/50\n",
            "4500/4500 - 20s - loss: 0.4081 - accuracy: 0.8088 - val_loss: 0.5348 - val_accuracy: 0.7455\n",
            "Epoch 8/50\n",
            "4500/4500 - 20s - loss: 0.3942 - accuracy: 0.8177 - val_loss: 0.5483 - val_accuracy: 0.7399\n",
            "Epoch 9/50\n",
            "4500/4500 - 20s - loss: 0.3798 - accuracy: 0.8253 - val_loss: 0.5579 - val_accuracy: 0.7382\n",
            "Epoch 10/50\n",
            "4500/4500 - 21s - loss: 0.3646 - accuracy: 0.8330 - val_loss: 0.5729 - val_accuracy: 0.7304\n",
            "Epoch 11/50\n",
            "4500/4500 - 20s - loss: 0.3508 - accuracy: 0.8405 - val_loss: 0.6056 - val_accuracy: 0.7318\n",
            "Epoch 12/50\n",
            "4500/4500 - 20s - loss: 0.3367 - accuracy: 0.8479 - val_loss: 0.6101 - val_accuracy: 0.7266\n",
            "Epoch 13/50\n",
            "4500/4500 - 20s - loss: 0.3249 - accuracy: 0.8537 - val_loss: 0.6684 - val_accuracy: 0.7321\n",
            "Epoch 14/50\n",
            "4500/4500 - 20s - loss: 0.3123 - accuracy: 0.8597 - val_loss: 0.6838 - val_accuracy: 0.7244\n",
            "Epoch 15/50\n",
            "4500/4500 - 20s - loss: 0.3024 - accuracy: 0.8649 - val_loss: 0.6829 - val_accuracy: 0.7238\n",
            "Epoch 16/50\n",
            "4500/4500 - 19s - loss: 0.2902 - accuracy: 0.8706 - val_loss: 0.7349 - val_accuracy: 0.7233\n",
            "Epoch 17/50\n",
            "4500/4500 - 19s - loss: 0.2811 - accuracy: 0.8757 - val_loss: 0.7451 - val_accuracy: 0.7172\n",
            "Epoch 18/50\n",
            "4500/4500 - 20s - loss: 0.2719 - accuracy: 0.8800 - val_loss: 0.7687 - val_accuracy: 0.7149\n",
            "Epoch 19/50\n",
            "4500/4500 - 20s - loss: 0.2627 - accuracy: 0.8854 - val_loss: 0.8052 - val_accuracy: 0.7182\n",
            "Epoch 20/50\n",
            "4500/4500 - 20s - loss: 0.2535 - accuracy: 0.8896 - val_loss: 0.8362 - val_accuracy: 0.7138\n",
            "Epoch 21/50\n",
            "4500/4500 - 20s - loss: 0.2468 - accuracy: 0.8929 - val_loss: 0.8401 - val_accuracy: 0.7149\n",
            "Epoch 22/50\n",
            "4500/4500 - 20s - loss: 0.2401 - accuracy: 0.8960 - val_loss: 0.8953 - val_accuracy: 0.7114\n",
            "Epoch 23/50\n",
            "4500/4500 - 20s - loss: 0.2324 - accuracy: 0.8993 - val_loss: 0.9454 - val_accuracy: 0.7097\n",
            "Epoch 24/50\n",
            "4500/4500 - 20s - loss: 0.2252 - accuracy: 0.9027 - val_loss: 0.9378 - val_accuracy: 0.7086\n",
            "Epoch 25/50\n",
            "4500/4500 - 20s - loss: 0.2193 - accuracy: 0.9059 - val_loss: 0.9732 - val_accuracy: 0.7120\n",
            "Epoch 26/50\n",
            "4500/4500 - 21s - loss: 0.2144 - accuracy: 0.9075 - val_loss: 0.9928 - val_accuracy: 0.7056\n",
            "Epoch 27/50\n",
            "4500/4500 - 20s - loss: 0.2113 - accuracy: 0.9098 - val_loss: 0.9936 - val_accuracy: 0.7047\n",
            "Epoch 28/50\n",
            "4500/4500 - 20s - loss: 0.2041 - accuracy: 0.9127 - val_loss: 1.0334 - val_accuracy: 0.7064\n",
            "Epoch 29/50\n",
            "4500/4500 - 20s - loss: 0.1995 - accuracy: 0.9152 - val_loss: 1.0729 - val_accuracy: 0.7088\n",
            "Epoch 30/50\n",
            "4500/4500 - 20s - loss: 0.1950 - accuracy: 0.9173 - val_loss: 1.0693 - val_accuracy: 0.7078\n",
            "Epoch 31/50\n",
            "4500/4500 - 19s - loss: 0.1915 - accuracy: 0.9184 - val_loss: 1.0984 - val_accuracy: 0.7087\n",
            "Epoch 32/50\n",
            "4500/4500 - 20s - loss: 0.1884 - accuracy: 0.9208 - val_loss: 1.1057 - val_accuracy: 0.7048\n",
            "Epoch 33/50\n",
            "4500/4500 - 20s - loss: 0.1841 - accuracy: 0.9224 - val_loss: 1.1298 - val_accuracy: 0.7051\n",
            "Epoch 34/50\n",
            "4500/4500 - 19s - loss: 0.1818 - accuracy: 0.9229 - val_loss: 1.1375 - val_accuracy: 0.7068\n",
            "Epoch 35/50\n",
            "4500/4500 - 20s - loss: 0.1780 - accuracy: 0.9246 - val_loss: 1.1741 - val_accuracy: 0.7037\n",
            "Epoch 36/50\n",
            "4500/4500 - 20s - loss: 0.1760 - accuracy: 0.9258 - val_loss: 1.1691 - val_accuracy: 0.7030\n",
            "Epoch 37/50\n",
            "4500/4500 - 20s - loss: 0.1732 - accuracy: 0.9272 - val_loss: 1.2089 - val_accuracy: 0.7042\n",
            "Epoch 38/50\n",
            "4500/4500 - 20s - loss: 0.1694 - accuracy: 0.9287 - val_loss: 1.2214 - val_accuracy: 0.7039\n",
            "Epoch 39/50\n",
            "4500/4500 - 20s - loss: 0.1675 - accuracy: 0.9305 - val_loss: 1.2116 - val_accuracy: 0.7013\n",
            "Epoch 40/50\n",
            "4500/4500 - 20s - loss: 0.1647 - accuracy: 0.9303 - val_loss: 1.2452 - val_accuracy: 0.7035\n",
            "Epoch 41/50\n",
            "4500/4500 - 20s - loss: 0.1627 - accuracy: 0.9319 - val_loss: 1.2667 - val_accuracy: 0.7049\n",
            "Epoch 42/50\n",
            "4500/4500 - 21s - loss: 0.1615 - accuracy: 0.9331 - val_loss: 1.2576 - val_accuracy: 0.7027\n",
            "Epoch 43/50\n",
            "4500/4500 - 20s - loss: 0.1620 - accuracy: 0.9320 - val_loss: 1.2840 - val_accuracy: 0.7062\n",
            "Epoch 44/50\n",
            "4500/4500 - 19s - loss: 0.1570 - accuracy: 0.9344 - val_loss: 1.3282 - val_accuracy: 0.7040\n",
            "Epoch 45/50\n",
            "4500/4500 - 19s - loss: 0.1552 - accuracy: 0.9362 - val_loss: 1.3309 - val_accuracy: 0.7040\n",
            "Epoch 46/50\n",
            "4500/4500 - 20s - loss: 0.1538 - accuracy: 0.9364 - val_loss: 1.3105 - val_accuracy: 0.7040\n",
            "Epoch 47/50\n",
            "4500/4500 - 20s - loss: 0.1539 - accuracy: 0.9357 - val_loss: 1.3626 - val_accuracy: 0.7051\n",
            "Epoch 48/50\n",
            "4500/4500 - 19s - loss: 0.1505 - accuracy: 0.9381 - val_loss: 1.3615 - val_accuracy: 0.7041\n",
            "Epoch 49/50\n",
            "4500/4500 - 20s - loss: 0.1497 - accuracy: 0.9386 - val_loss: 1.3299 - val_accuracy: 0.6986\n",
            "Epoch 50/50\n",
            "4500/4500 - 19s - loss: 0.1482 - accuracy: 0.9386 - val_loss: 1.3814 - val_accuracy: 0.6993\n",
            "Training Complete\n"
          ],
          "name": "stdout"
        }
      ]
    },
    {
      "cell_type": "code",
      "metadata": {
        "colab_type": "code",
        "id": "qxju4ItJKO8F",
        "colab": {
          "base_uri": "https://localhost:8080/",
          "height": 609
        },
        "outputId": "6cb81095-7881-461a-c6ad-652f2b710b04"
      },
      "source": [
        "import matplotlib.image  as mpimg\n",
        "import matplotlib.pyplot as plt\n",
        "\n",
        "#-----------------------------------------------------------\n",
        "# Retrieve a list of list results on training and test data\n",
        "# sets for each training epoch\n",
        "#-----------------------------------------------------------\n",
        "acc=history.history['accuracy']\n",
        "val_acc=history.history['val_accuracy']\n",
        "loss=history.history['loss']\n",
        "val_loss=history.history['val_loss']\n",
        "\n",
        "epochs=range(len(acc)) # Get number of epochs\n",
        "\n",
        "#------------------------------------------------\n",
        "# Plot training and validation accuracy per epoch\n",
        "#------------------------------------------------\n",
        "plt.plot(epochs, acc, 'r')\n",
        "plt.plot(epochs, val_acc, 'b')\n",
        "plt.title('Training and validation accuracy')\n",
        "plt.xlabel(\"Epochs\")\n",
        "plt.ylabel(\"Accuracy\")\n",
        "plt.legend([\"Accuracy\", \"Validation Accuracy\"])\n",
        "\n",
        "plt.figure()\n",
        "\n",
        "#------------------------------------------------\n",
        "# Plot training and validation loss per epoch\n",
        "#------------------------------------------------\n",
        "plt.plot(epochs, loss, 'r')\n",
        "plt.plot(epochs, val_loss, 'b')\n",
        "plt.title('Training and validation loss')\n",
        "plt.xlabel(\"Epochs\")\n",
        "plt.ylabel(\"Loss\")\n",
        "plt.legend([\"Loss\", \"Validation Loss\"])\n",
        "\n",
        "plt.figure()\n",
        "\n",
        "\n",
        "# Expected Output\n",
        "# A chart where the validation loss does not increase sharply!"
      ],
      "execution_count": null,
      "outputs": [
        {
          "output_type": "execute_result",
          "data": {
            "text/plain": [
              "<Figure size 432x288 with 0 Axes>"
            ]
          },
          "metadata": {
            "tags": []
          },
          "execution_count": 21
        },
        {
          "output_type": "display_data",
          "data": {
            "image/png": "[encoded data removed]",
            "text/plain": [
              "<Figure size 432x288 with 1 Axes>"
            ]
          },
          "metadata": {
            "tags": [],
            "needs_background": "light"
          }
        },
        {
          "output_type": "display_data",
          "data": {
            "image/png": "[encoded data removed]",
            "text/plain": [
              "<Figure size 432x288 with 1 Axes>"
            ]
          },
          "metadata": {
            "tags": [],
            "needs_background": "light"
          }
        },
        {
          "output_type": "display_data",
          "data": {
            "text/plain": [
              "<Figure size 432x288 with 0 Axes>"
            ]
          },
          "metadata": {
            "tags": []
          }
        }
      ]
    }
  ]
}